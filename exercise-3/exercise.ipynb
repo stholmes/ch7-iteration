{
 "cells": [
  {
   "cell_type": "markdown",
   "metadata": {},
   "source": [
    "# Exercise 3\n",
    "Add the specified code for each code cell, running the cells _in order_."
   ]
  },
  {
   "cell_type": "markdown",
   "metadata": {},
   "source": [
    "Import the [**os**](https://docs.python.org/3/library/os.html) module. This module will (among other features) allow you to interact with your computer's [file system](https://docs.python.org/3/library/os.html#os-file-dir), similar to what you've done on the command line."
   ]
  },
  {
   "cell_type": "code",
   "execution_count": 4,
   "metadata": {},
   "outputs": [],
   "source": [
    "import os"
   ]
  },
  {
   "cell_type": "markdown",
   "metadata": {},
   "source": [
    "Use the [getcwd()](https://docs.python.org/3/library/os.html#os.getcwd) function to print this notebook's current working directory."
   ]
  },
  {
   "cell_type": "code",
   "execution_count": 6,
   "metadata": {},
   "outputs": [
    {
     "data": {
      "text/plain": [
       "'C:\\\\Users\\\\steph\\\\Desktop\\\\511\\\\chapter7\\\\ch7-iteration\\\\exercise-3'"
      ]
     },
     "execution_count": 6,
     "metadata": {},
     "output_type": "execute_result"
    }
   ],
   "source": [
    "os.getcwd()"
   ]
  },
  {
   "cell_type": "markdown",
   "metadata": {},
   "source": [
    "Use the `chdir()` function to change the current working directory to the \"root\" directory of the exercise repo (e.g., the `ch7-iteration` folder).\n",
    "- Note that you can restart the Kernel in order to \"reset\" your current directory."
   ]
  },
  {
   "cell_type": "code",
   "execution_count": 41,
   "metadata": {},
   "outputs": [],
   "source": [
    "os.chdir(\"C:\\\\Users\\\\steph\\\\Desktop\\\\511\\\\chapter7\\\\ch7-iteration\")"
   ]
  },
  {
   "cell_type": "markdown",
   "metadata": {},
   "source": [
    "[List](https://docs.python.org/3/library/os.html#os.getcwd) the contents of the current directory (which should be the `ch7-iteration` folder)."
   ]
  },
  {
   "cell_type": "code",
   "execution_count": 43,
   "metadata": {},
   "outputs": [
    {
     "data": {
      "text/plain": [
       "['.git',\n",
       " '.gitignore',\n",
       " 'exercise-1',\n",
       " 'exercise-2',\n",
       " 'exercise-3',\n",
       " 'LICENSE',\n",
       " 'README.md']"
      ]
     },
     "execution_count": 43,
     "metadata": {},
     "output_type": "execute_result"
    }
   ],
   "source": [
    "os.listdir(\"C:\\\\Users\\\\steph\\\\Desktop\\\\511\\\\chapter7\\\\ch7-iteration\")"
   ]
  },
  {
   "cell_type": "markdown",
   "metadata": {},
   "source": [
    "Open the `LICENSE` file, then use a `for` loop to print its contents (specify an `end` keyword argument when printing to avoid outputting extra newlines)."
   ]
  },
  {
   "cell_type": "code",
   "execution_count": 38,
   "metadata": {},
   "outputs": [
    {
     "name": "stdout",
     "output_type": "stream",
     "text": [
      "MIT License\n",
      "\n",
      "\n",
      "\n",
      "Copyright (c) 2018 Infx 511\n",
      "\n",
      "\n",
      "\n",
      "Permission is hereby granted, free of charge, to any person obtaining a copy\n",
      "\n",
      "of this software and associated documentation files (the \"Software\"), to deal\n",
      "\n",
      "in the Software without restriction, including without limitation the rights\n",
      "\n",
      "to use, copy, modify, merge, publish, distribute, sublicense, and/or sell\n",
      "\n",
      "copies of the Software, and to permit persons to whom the Software is\n",
      "\n",
      "furnished to do so, subject to the following conditions:\n",
      "\n",
      "\n",
      "\n",
      "The above copyright notice and this permission notice shall be included in all\n",
      "\n",
      "copies or substantial portions of the Software.\n",
      "\n",
      "\n",
      "\n",
      "THE SOFTWARE IS PROVIDED \"AS IS\", WITHOUT WARRANTY OF ANY KIND, EXPRESS OR\n",
      "\n",
      "IMPLIED, INCLUDING BUT NOT LIMITED TO THE WARRANTIES OF MERCHANTABILITY,\n",
      "\n",
      "FITNESS FOR A PARTICULAR PURPOSE AND NONINFRINGEMENT. IN NO EVENT SHALL THE\n",
      "\n",
      "AUTHORS OR COPYRIGHT HOLDERS BE LIABLE FOR ANY CLAIM, DAMAGES OR OTHER\n",
      "\n",
      "LIABILITY, WHETHER IN AN ACTION OF CONTRACT, TORT OR OTHERWISE, ARISING FROM,\n",
      "\n",
      "OUT OF OR IN CONNECTION WITH THE SOFTWARE OR THE USE OR OTHER DEALINGS IN THE\n",
      "\n",
      "SOFTWARE.\n",
      "\n"
     ]
    }
   ],
   "source": [
    "file = open(\"LICENSE\")\n",
    "for line in file:\n",
    "    print(line, end='\\n')"
   ]
  },
  {
   "cell_type": "markdown",
   "metadata": {},
   "source": [
    "Open the `.gitignore` file, then use a `for` loop to count the number of entries in the file.\n",
    "Ignoring any lines that [start with](https://docs.python.org/3.6/library/stdtypes.html#str.startswith) `#` (comments) or are blank (just a newline `\\n`)."
   ]
  },
  {
   "cell_type": "code",
   "execution_count": 49,
   "metadata": {},
   "outputs": [
    {
     "name": "stdout",
     "output_type": "stream",
     "text": [
      "0\n",
      "3\n",
      "3\n",
      "4\n",
      "4\n",
      "21\n",
      "21\n",
      "21\n",
      "21\n",
      "23\n",
      "23\n",
      "25\n",
      "25\n",
      "34\n",
      "34\n",
      "36\n",
      "36\n",
      "38\n",
      "38\n",
      "40\n",
      "40\n",
      "41\n",
      "41\n",
      "42\n",
      "42\n",
      "43\n",
      "43\n",
      "44\n",
      "44\n",
      "45\n",
      "45\n",
      "46\n",
      "46\n",
      "47\n",
      "47\n",
      "48\n",
      "48\n",
      "51\n",
      "51\n",
      "52\n",
      "52\n",
      "53\n",
      "53\n",
      "54\n"
     ]
    }
   ],
   "source": [
    "new_file = open(\".gitignore\")\n",
    "counter = 0\n",
    "for line in new_file:\n",
    "    if line.startswith('#') or line.startswith('\\n'):\n",
    "       print(counter) \n",
    "    else:\n",
    "        counter = counter + 1\n",
    "print(counter)\n"
   ]
  },
  {
   "cell_type": "code",
   "execution_count": null,
   "metadata": {},
   "outputs": [],
   "source": []
  }
 ],
 "metadata": {
  "kernelspec": {
   "display_name": "Python 3",
   "language": "python",
   "name": "python3"
  },
  "language_info": {
   "codemirror_mode": {
    "name": "ipython",
    "version": 3
   },
   "file_extension": ".py",
   "mimetype": "text/x-python",
   "name": "python",
   "nbconvert_exporter": "python",
   "pygments_lexer": "ipython3",
   "version": "3.6.4"
  },
  "toc": {
   "colors": {
    "hover_highlight": "#DAA520",
    "running_highlight": "#FF0000",
    "selected_highlight": "#FFD700"
   },
   "moveMenuLeft": true,
   "nav_menu": {
    "height": "30px",
    "width": "252px"
   },
   "navigate_menu": true,
   "number_sections": true,
   "sideBar": true,
   "threshold": 4,
   "toc_cell": false,
   "toc_section_display": "block",
   "toc_window_display": false,
   "widenNotebook": false
  }
 },
 "nbformat": 4,
 "nbformat_minor": 2
}
