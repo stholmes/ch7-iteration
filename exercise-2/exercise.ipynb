{
 "cells": [
  {
   "cell_type": "markdown",
   "metadata": {},
   "source": [
    "# Exercise 2\n",
    "Add the specified code for each code cell, running the cells _in order_."
   ]
  },
  {
   "cell_type": "markdown",
   "metadata": {},
   "source": [
    "Write a **`for`** loop that prints out every 5th number (multiples of 5) from 0 to 100 (inclusive).\n",
    "- _Tip:_ use an **`end=','`** keyword argument to the `print()` function to print all the numbers on the same line."
   ]
  },
  {
   "cell_type": "code",
   "execution_count": 4,
   "metadata": {},
   "outputs": [
    {
     "name": "stdout",
     "output_type": "stream",
     "text": [
      "0,5,10,15,20,25,30,35,40,45,50,55,60,65,70,75,80,85,90,95,100,"
     ]
    }
   ],
   "source": [
    "for count in range(0,101,5):\n",
    "    print(count, end=',')"
   ]
  },
  {
   "cell_type": "markdown",
   "metadata": {},
   "source": [
    "Use a **`for`** loop to print out the first 15 [Triangular numbers](https://en.wikipedia.org/wiki/Triangular_number). This is a sequence of numbers for which the _nth_ value is the sum of the numbers from 0 to _n_. **Do this only using addition!**\n",
    "- _Hint:_ use an additional variable to keep track of the `total` value, and have that value increase by the number of times you've been through the loop each iteration!"
   ]
  },
  {
   "cell_type": "code",
   "execution_count": 5,
   "metadata": {},
   "outputs": [
    {
     "name": "stdout",
     "output_type": "stream",
     "text": [
      "0,1,3,6,10,15,21,28,36,45,55,66,78,91,105,120,"
     ]
    }
   ],
   "source": [
    "total = 0\n",
    "for count in range(0,16):\n",
    "    total = total + count\n",
    "    print(total, end =',')\n",
    "     \n",
    "    "
   ]
  },
  {
   "cell_type": "markdown",
   "metadata": {},
   "source": [
    "_Challenge_ Use a **`for`** loop to print out 20 numbers, each of which is larger than the previous by the the _sum_ of the **two** previous numbers (the [Fibonacci sequence](https://en.wikipedia.org/wiki/Fibonacci_number).\n",
    "- _Hint_: you'll need to keep track of the two previous values (start them at 0 and 1), and then \"update\" them each time through the loop, storing the  \"new total\" in the first previous variable, and the first previous variable in the second (be careful about the ordering of this!) "
   ]
  },
  {
   "cell_type": "code",
   "execution_count": 6,
   "metadata": {},
   "outputs": [
    {
     "name": "stdout",
     "output_type": "stream",
     "text": [
      "0,1,1,2,3,5,8,13,21,34,55,89,144,233,377,610,987,1597,2584,4181,6765,10946,17711,"
     ]
    }
   ],
   "source": [
    "prev1 = 0\n",
    "prev2 = 1\n",
    "print(str(prev1) + ',' + str(prev2), end=',')\n",
    "for count in range(0,21):\n",
    "    fib = prev1 + prev2\n",
    "    print(fib, end=',')\n",
    "    prev1 = prev2\n",
    "    prev2 = fib\n",
    "    "
   ]
  },
  {
   "cell_type": "markdown",
   "metadata": {},
   "source": [
    "Define a function **`is_prime()`** that takes in a whole number as an argument and returns whether or not that number is prime (divisible by only 1 and itself).\n",
    "- You can check divisibility by seeing if the remainder (using the modulo **`%`** operator) is 0, or by comparing the integer of the quotient to the float of the quotient.\n",
    "- Be careful to only `return` that a value is in fact prime after you've checked **all** the factors!"
   ]
  },
  {
   "cell_type": "code",
   "execution_count": 26,
   "metadata": {},
   "outputs": [
    {
     "data": {
      "text/plain": [
       "True"
      ]
     },
     "execution_count": 26,
     "metadata": {},
     "output_type": "execute_result"
    }
   ],
   "source": [
    "\n",
    "def is_prime(num):\n",
    "    is_natural = False\n",
    "    counter = 0\n",
    "    if num == 2:\n",
    "           is_natural = True\n",
    "    elif num % 2 == 0:\n",
    "        is_natrual = False\n",
    "    else:\n",
    "        while counter < num:\n",
    "            if counter > 1 and num % counter == 0:\n",
    "                is_natural = False\n",
    "                counter = num\n",
    "            else:\n",
    "                is_natural = True\n",
    "            counter = counter + 1\n",
    "            \n",
    "    return(is_natural)\n",
    "is_prime(17)"
   ]
  },
  {
   "cell_type": "markdown",
   "metadata": {},
   "source": [
    "Define a function **`find_primes()`** that takes in a whole number and _prints out_ all of the prime numbers that are less than or equal to the parameter. Call the function to print out the prime numbers up to 101.\n",
    "- Make sure to your `is_prime()` function!"
   ]
  },
  {
   "cell_type": "code",
   "execution_count": 27,
   "metadata": {},
   "outputs": [
    {
     "name": "stdout",
     "output_type": "stream",
     "text": [
      "1,2,3,5,7,11,13,17,19,23,29,31,37,41,43,47,53,59,61,67,71,73,79,83,89,97,"
     ]
    },
    {
     "data": {
      "text/plain": [
       "()"
      ]
     },
     "execution_count": 27,
     "metadata": {},
     "output_type": "execute_result"
    }
   ],
   "source": [
    "def find_primes(num):\n",
    "    x = 0\n",
    "    for counter in range(num):\n",
    "        if is_prime(x) == True:\n",
    "            print(x, end=',')    \n",
    "        x= x + 1\n",
    "    return()\n",
    "    \n",
    "find_primes(101)"
   ]
  },
  {
   "cell_type": "markdown",
   "metadata": {},
   "source": [
    "As discussed in the course text, `for` loops can be used to iterate over collections of data such as files. But it is also possible to convert a **`string`** into a collection (technically a _list_) of ___words___ by calling the [split()](https://docs.python.org/3.6/library/stdtypes.html#str.split) method on that string.\n",
    "\n",
    "Create a variable `quote` containing a quote from someone you admire. Then create a variable **`words`** by calling the `split()` method on the quote."
   ]
  },
  {
   "cell_type": "code",
   "execution_count": 28,
   "metadata": {},
   "outputs": [],
   "source": [
    "quote = \"'The Western world is located somewhere between the Statue of Liberty and the pillar of salt.' - James Baldwin\"\n",
    "words = quote.split()"
   ]
  },
  {
   "cell_type": "markdown",
   "metadata": {},
   "source": [
    "Use a **`for`** loop to iterate through the words, printing out each one on a separate line."
   ]
  },
  {
   "cell_type": "code",
   "execution_count": 29,
   "metadata": {},
   "outputs": [
    {
     "name": "stdout",
     "output_type": "stream",
     "text": [
      "'The\n",
      "Western\n",
      "world\n",
      "is\n",
      "located\n",
      "somewhere\n",
      "between\n",
      "the\n",
      "Statue\n",
      "of\n",
      "Liberty\n",
      "and\n",
      "the\n",
      "pillar\n",
      "of\n",
      "salt.'\n",
      "-\n",
      "James\n",
      "Baldwin\n"
     ]
    }
   ],
   "source": [
    "for quote in words:\n",
    "    print(quote)"
   ]
  },
  {
   "cell_type": "markdown",
   "metadata": {},
   "source": [
    "Use a **`for`** loop to determine the _percentage_ of words in the quote that have 4 or more letters."
   ]
  },
  {
   "cell_type": "code",
   "execution_count": 49,
   "metadata": {},
   "outputs": [
    {
     "name": "stdout",
     "output_type": "stream",
     "text": [
      "63%\n"
     ]
    }
   ],
   "source": [
    "word_count = 0\n",
    "counter = 0\n",
    "for quote in words:\n",
    "    word_count = word_count + 1\n",
    "    if len(quote) >= 4:\n",
    "        counter = counter +1\n",
    "print(str((int(round(counter/word_count, 2) * 100))) + '%')\n",
    "    "
   ]
  },
  {
   "cell_type": "markdown",
   "metadata": {},
   "source": [
    "It's also possible to use a `for` loop to iterate through the _letters_ in a string!\n",
    "\n",
    "Create a variable `word` containing your favorite word. Iterate through the letters in the word, printing `\"Give me a __!\"` for each (replacing the `__` with the letter). Finally, print `\"What does that spell?!\"` followed by the word."
   ]
  },
  {
   "cell_type": "code",
   "execution_count": 53,
   "metadata": {},
   "outputs": [
    {
     "name": "stdout",
     "output_type": "stream",
     "text": [
      "Give me a G!\n",
      "Give me a i!\n",
      "Give me a r!\n",
      "Give me a a!\n",
      "Give me a f!\n",
      "Give me a f!\n",
      "Give me a e!\n"
     ]
    }
   ],
   "source": [
    "word = \"Giraffe\"\n",
    "chant = \"Give me a _!\"\n",
    "for letter in word:\n",
    "    print(chant.replace(\"_\", letter))"
   ]
  },
  {
   "cell_type": "code",
   "execution_count": null,
   "metadata": {},
   "outputs": [],
   "source": []
  }
 ],
 "metadata": {
  "kernelspec": {
   "display_name": "Python 3",
   "language": "python",
   "name": "python3"
  },
  "language_info": {
   "codemirror_mode": {
    "name": "ipython",
    "version": 3
   },
   "file_extension": ".py",
   "mimetype": "text/x-python",
   "name": "python",
   "nbconvert_exporter": "python",
   "pygments_lexer": "ipython3",
   "version": "3.6.4"
  },
  "toc": {
   "colors": {
    "hover_highlight": "#DAA520",
    "running_highlight": "#FF0000",
    "selected_highlight": "#FFD700"
   },
   "moveMenuLeft": true,
   "nav_menu": {
    "height": "30px",
    "width": "252px"
   },
   "navigate_menu": true,
   "number_sections": true,
   "sideBar": true,
   "threshold": 4,
   "toc_cell": false,
   "toc_section_display": "block",
   "toc_window_display": false,
   "widenNotebook": false
  }
 },
 "nbformat": 4,
 "nbformat_minor": 2
}
